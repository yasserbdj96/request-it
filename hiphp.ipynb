{
  "cells": [
    {
      "attachments": {},
      "cell_type": "markdown",
      "id": "5d3e37b4",
      "metadata": {
        "id": "5d3e37b4"
      },
      "source": [
        "# Download & install requirements:"
      ]
    },
    {
      "cell_type": "code",
      "execution_count": null,
      "id": "5ee93924",
      "metadata": {
        "id": "5ee93924"
      },
      "outputs": [],
      "source": [
        "!git clone https://github.com/yasserbdj96/hiphp.git"
      ]
    },
    {
      "cell_type": "code",
      "execution_count": null,
      "id": "a18c23cd",
      "metadata": {
        "id": "a18c23cd"
      },
      "outputs": [],
      "source": [
        "!pip install -r hiphp/requirements.txt"
      ]
    },
    {
      "cell_type": "code",
      "execution_count": null,
      "id": "8a8024c2",
      "metadata": {
        "id": "8a8024c2"
      },
      "outputs": [],
      "source": [
        "!pip install selenium && apt-get update && apt install chromium-chromedriver"
      ]
    },
    {
      "attachments": {},
      "cell_type": "markdown",
      "id": "052510ad",
      "metadata": {
        "id": "052510ad"
      },
      "source": [
        "# Run hiphp-desktop on NGROK:"
      ]
    },
    {
      "cell_type": "code",
      "execution_count": null,
      "id": "2c787a5c",
      "metadata": {
        "id": "2c787a5c"
      },
      "outputs": [],
      "source": [
        "!cd hiphp && python3 main.py --dst --ipynb --token=\"<YOUR_NGROK_AUTHTOKEN>\""
      ]
    }
  ],
  "metadata": {
    "colab": {
      "provenance": []
    },
    "kernelspec": {
      "display_name": "Python 3",
      "language": "python",
      "name": "python3"
    },
    "language_info": {
      "codemirror_mode": {
        "name": "ipython",
        "version": 3
      },
      "file_extension": ".py",
      "mimetype": "text/x-python",
      "name": "python",
      "nbconvert_exporter": "python",
      "pygments_lexer": "ipython3",
      "version": "3.11.2"
    },
    "vscode": {
      "interpreter": {
        "hash": "e7370f93d1d0cde622a1f8e1c04877d8463912d04d973331ad4851f04de6915a"
      }
    }
  },
  "nbformat": 4,
  "nbformat_minor": 5
}
